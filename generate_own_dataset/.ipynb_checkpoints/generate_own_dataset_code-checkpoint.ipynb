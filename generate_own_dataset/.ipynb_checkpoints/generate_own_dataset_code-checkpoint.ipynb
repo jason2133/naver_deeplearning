{
 "cells": [
  {
   "cell_type": "code",
   "execution_count": 2,
   "metadata": {},
   "outputs": [
    {
     "name": "stdout",
     "output_type": "stream",
     "text": [
      "Current Folder is C:\\Users\\jason\\Desktop\\naver_deep_learning\\generate_own_dataset\n"
     ]
    }
   ],
   "source": [
    "import numpy as np\n",
    "import os\n",
    "\n",
    "from scipy.misc import imread, imresize\n",
    "import matplotlib.pyplot as plt\n",
    "%matplotlib inline\n",
    "\n",
    "cwd = os.getcwd()\n",
    "\n",
    "print(\"Current Folder is %s\" % (cwd))"
   ]
  },
  {
   "cell_type": "markdown",
   "metadata": {},
   "source": [
    "# 경로 설정, Reshape Size, GrayScale, Save Name"
   ]
  },
  {
   "cell_type": "code",
   "execution_count": 3,
   "metadata": {},
   "outputs": [
    {
     "name": "stdout",
     "output_type": "stream",
     "text": [
      "Your images should be at\n",
      " [0/4] C:\\Users\\jason\\Desktop\\naver_deep_learning\\generate_own_dataset/../../img_dataset/celebs/Arnold_Schwarzenegger\n",
      " [1/4] C:\\Users\\jason\\Desktop\\naver_deep_learning\\generate_own_dataset/../../img_dataset/celebs/George_W_Bush\n",
      " [2/4] C:\\Users\\jason\\Desktop\\naver_deep_learning\\generate_own_dataset/../../img_dataset/celebs/Vladimir_Putin\n",
      " [3/4] C:\\Users\\jason\\Desktop\\naver_deep_learning\\generate_own_dataset/../../img_dataset/celebs/Junichiro_Koizumi\n",
      "Data will be saved to C:\\Users\\jason\\Desktop\\naver_deep_learning\\generate_own_dataset/data/custom_data.npz\n"
     ]
    }
   ],
   "source": [
    "# 경로 설정\n",
    "paths = {\"../../img_dataset/celebs/Arnold_Schwarzenegger\"\n",
    "        , \"../../img_dataset/celebs/Junichiro_Koizumi\"\n",
    "        , \"../../img_dataset/celebs/Vladimir_Putin\"\n",
    "        , \"../../img_dataset/celebs/George_W_Bush\"}\n",
    "\n",
    "# The reshape size\n",
    "# 사이즈 재조정 : 64 * 64\n",
    "imgsize = [64, 64]\n",
    "\n",
    "# Grayscale\n",
    "# 회색\n",
    "use_gray = 1\n",
    "\n",
    "# Save name\n",
    "# 이름 저장\n",
    "data_name = \"custom_data\"\n",
    "\n",
    "print (\"Your images should be at\")\n",
    "for i, path in enumerate(paths):\n",
    "    print (\" [%d/%d] %s/%s\" % (i, len(paths), cwd, path)) \n",
    "\n",
    "print (\"Data will be saved to %s\" \n",
    "       % (cwd + '/data/' + data_name + '.npz'))"
   ]
  },
  {
   "cell_type": "markdown",
   "metadata": {},
   "source": [
    "# RGB 2 GRAY Function"
   ]
  },
  {
   "cell_type": "code",
   "execution_count": 4,
   "metadata": {},
   "outputs": [],
   "source": [
    "def rgb2gray(rgb):\n",
    "    if len(rgb.shape) is 3:\n",
    "        return np.dot(rgb[...,:3], [0.299, 0.587, 0.114])\n",
    "    else:\n",
    "        # print (\"Current Image if GRAY!\")\n",
    "        return rgb"
   ]
  },
  {
   "cell_type": "markdown",
   "metadata": {},
   "source": [
    "# LOAD IMAGES\n",
    "# 이미지 불러오기"
   ]
  },
  {
   "cell_type": "code",
   "execution_count": 5,
   "metadata": {
    "scrolled": true
   },
   "outputs": [
    {
     "ename": "FileNotFoundError",
     "evalue": "[WinError 3] 지정된 경로를 찾을 수 없습니다: 'C:\\\\Users\\\\jason\\\\Desktop\\\\naver_deep_learning\\\\generate_own_dataset/../../img_dataset/celebs/Arnold_Schwarzenegger'",
     "output_type": "error",
     "traceback": [
      "\u001b[1;31m---------------------------------------------------------------------------\u001b[0m",
      "\u001b[1;31mFileNotFoundError\u001b[0m                         Traceback (most recent call last)",
      "\u001b[1;32m<ipython-input-5-6ad21538881d>\u001b[0m in \u001b[0;36m<module>\u001b[1;34m\u001b[0m\n\u001b[0;32m      4\u001b[0m \u001b[1;32mfor\u001b[0m \u001b[0mi\u001b[0m\u001b[1;33m,\u001b[0m \u001b[0mrelpath\u001b[0m \u001b[1;32min\u001b[0m \u001b[0mzip\u001b[0m\u001b[1;33m(\u001b[0m\u001b[0mrange\u001b[0m\u001b[1;33m(\u001b[0m\u001b[0mnclass\u001b[0m\u001b[1;33m)\u001b[0m\u001b[1;33m,\u001b[0m \u001b[0mpaths\u001b[0m\u001b[1;33m)\u001b[0m\u001b[1;33m:\u001b[0m\u001b[1;33m\u001b[0m\u001b[0m\n\u001b[0;32m      5\u001b[0m     \u001b[0mpath\u001b[0m \u001b[1;33m=\u001b[0m \u001b[0mcwd\u001b[0m \u001b[1;33m+\u001b[0m \u001b[1;34m\"/\"\u001b[0m \u001b[1;33m+\u001b[0m \u001b[0mrelpath\u001b[0m\u001b[1;33m\u001b[0m\u001b[0m\n\u001b[1;32m----> 6\u001b[1;33m     \u001b[0mflist\u001b[0m \u001b[1;33m=\u001b[0m \u001b[0mos\u001b[0m\u001b[1;33m.\u001b[0m\u001b[0mlistdir\u001b[0m\u001b[1;33m(\u001b[0m\u001b[0mpath\u001b[0m\u001b[1;33m)\u001b[0m\u001b[1;33m\u001b[0m\u001b[0m\n\u001b[0m\u001b[0;32m      7\u001b[0m     \u001b[1;32mfor\u001b[0m \u001b[0mf\u001b[0m \u001b[1;32min\u001b[0m \u001b[0mflist\u001b[0m\u001b[1;33m:\u001b[0m\u001b[1;33m\u001b[0m\u001b[0m\n\u001b[0;32m      8\u001b[0m         \u001b[1;32mif\u001b[0m \u001b[0mos\u001b[0m\u001b[1;33m.\u001b[0m\u001b[0mpath\u001b[0m\u001b[1;33m.\u001b[0m\u001b[0msplitext\u001b[0m\u001b[1;33m(\u001b[0m\u001b[0mf\u001b[0m\u001b[1;33m)\u001b[0m\u001b[1;33m[\u001b[0m\u001b[1;36m1\u001b[0m\u001b[1;33m]\u001b[0m\u001b[1;33m.\u001b[0m\u001b[0mlower\u001b[0m\u001b[1;33m(\u001b[0m\u001b[1;33m)\u001b[0m \u001b[1;32mnot\u001b[0m \u001b[1;32min\u001b[0m \u001b[0mvalid_exts\u001b[0m\u001b[1;33m:\u001b[0m\u001b[1;33m\u001b[0m\u001b[0m\n",
      "\u001b[1;31mFileNotFoundError\u001b[0m: [WinError 3] 지정된 경로를 찾을 수 없습니다: 'C:\\\\Users\\\\jason\\\\Desktop\\\\naver_deep_learning\\\\generate_own_dataset/../../img_dataset/celebs/Arnold_Schwarzenegger'"
     ]
    }
   ],
   "source": [
    "nclass     = len(paths)\n",
    "valid_exts = [\".jpg\",\".gif\",\".png\",\".tga\", \".jpeg\"]\n",
    "imgcnt     = 0\n",
    "for i, relpath in zip(range(nclass), paths):\n",
    "    path = cwd + \"/\" + relpath\n",
    "    flist = os.listdir(path)\n",
    "    for f in flist:\n",
    "        if os.path.splitext(f)[1].lower() not in valid_exts:\n",
    "            continue\n",
    "        fullpath = os.path.join(path, f)\n",
    "        currimg  = imread(fullpath)\n",
    "        # Convert to grayscale  \n",
    "        if use_gray:\n",
    "            grayimg  = rgb2gray(currimg)\n",
    "        else:\n",
    "            grayimg  = currimg\n",
    "        # Reshape\n",
    "        graysmall = imresize(grayimg, [imgsize[0], imgsize[1]])/255.\n",
    "        grayvec   = np.reshape(graysmall, (1, -1))\n",
    "        # Save \n",
    "        curr_label = np.eye(nclass, nclass)[i:i+1, :]\n",
    "        if imgcnt is 0:\n",
    "            totalimg   = grayvec\n",
    "            totallabel = curr_label\n",
    "        else:\n",
    "            totalimg   = np.concatenate((totalimg, grayvec), axis=0)\n",
    "            totallabel = np.concatenate((totallabel, curr_label), axis=0)\n",
    "        imgcnt    = imgcnt + 1\n",
    "print (\"Total %d images loaded.\" % (imgcnt))"
   ]
  },
  {
   "cell_type": "code",
   "execution_count": null,
   "metadata": {},
   "outputs": [],
   "source": [
    "def print_shape(string, x):\n",
    "    print (\"Shape of '%s' is %s\" % (string, x.shape,))\n",
    "    \n",
    "randidx    = np.random.randint(imgcnt, size=imgcnt)\n",
    "trainidx   = randidx[0:int(3*imgcnt/5)]\n",
    "testidx    = randidx[int(3*imgcnt/5):imgcnt]\n",
    "trainimg   = totalimg[trainidx, :]\n",
    "trainlabel = totallabel[trainidx, :]\n",
    "testimg    = totalimg[testidx, :]\n",
    "testlabel  = totallabel[testidx, :]\n",
    "print_shape(\"trainimg\", trainimg)\n",
    "print_shape(\"trainlabel\", trainlabel)\n",
    "print_shape(\"testimg\", testimg)\n",
    "print_shape(\"testlabel\", testlabel)"
   ]
  },
  {
   "cell_type": "code",
   "execution_count": null,
   "metadata": {},
   "outputs": [],
   "source": []
  },
  {
   "cell_type": "code",
   "execution_count": null,
   "metadata": {},
   "outputs": [],
   "source": []
  },
  {
   "cell_type": "code",
   "execution_count": null,
   "metadata": {},
   "outputs": [],
   "source": []
  },
  {
   "cell_type": "code",
   "execution_count": null,
   "metadata": {},
   "outputs": [],
   "source": []
  }
 ],
 "metadata": {
  "kernelspec": {
   "display_name": "Python 3",
   "language": "python",
   "name": "python3"
  },
  "language_info": {
   "codemirror_mode": {
    "name": "ipython",
    "version": 3
   },
   "file_extension": ".py",
   "mimetype": "text/x-python",
   "name": "python",
   "nbconvert_exporter": "python",
   "pygments_lexer": "ipython3",
   "version": "3.6.5"
  }
 },
 "nbformat": 4,
 "nbformat_minor": 2
}
