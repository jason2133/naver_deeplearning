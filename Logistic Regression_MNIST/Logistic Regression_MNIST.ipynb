{
 "cells": [
  {
   "cell_type": "code",
   "execution_count": 3,
   "metadata": {},
   "outputs": [],
   "source": [
    "# TensorFlow 개발환경 구축\n",
    "\n",
    "import numpy as np\n",
    "import tensorflow as tf\n",
    "import matplotlib.pyplot as plt\n",
    "%matplotlib inline\n",
    "\n",
    "# MNIST 불러오기\n",
    "from tensorflow.examples.tutorials.mnist import input_data"
   ]
  },
  {
   "cell_type": "code",
   "execution_count": 5,
   "metadata": {},
   "outputs": [
    {
     "name": "stdout",
     "output_type": "stream",
     "text": [
      "WARNING:tensorflow:From <ipython-input-5-4924de41d97c>:3: read_data_sets (from tensorflow.contrib.learn.python.learn.datasets.mnist) is deprecated and will be removed in a future version.\n",
      "Instructions for updating:\n",
      "Please use alternatives such as official/mnist/dataset.py from tensorflow/models.\n",
      "WARNING:tensorflow:From c:\\users\\jason\\appdata\\local\\programs\\python\\python36\\lib\\site-packages\\tensorflow\\contrib\\learn\\python\\learn\\datasets\\mnist.py:260: maybe_download (from tensorflow.contrib.learn.python.learn.datasets.base) is deprecated and will be removed in a future version.\n",
      "Instructions for updating:\n",
      "Please write your own downloading logic.\n",
      "WARNING:tensorflow:From c:\\users\\jason\\appdata\\local\\programs\\python\\python36\\lib\\site-packages\\tensorflow\\contrib\\learn\\python\\learn\\datasets\\base.py:252: _internal_retry.<locals>.wrap.<locals>.wrapped_fn (from tensorflow.contrib.learn.python.learn.datasets.base) is deprecated and will be removed in a future version.\n",
      "Instructions for updating:\n",
      "Please use urllib or similar directly.\n",
      "Successfully downloaded train-images-idx3-ubyte.gz 9912422 bytes.\n",
      "WARNING:tensorflow:From c:\\users\\jason\\appdata\\local\\programs\\python\\python36\\lib\\site-packages\\tensorflow\\contrib\\learn\\python\\learn\\datasets\\mnist.py:262: extract_images (from tensorflow.contrib.learn.python.learn.datasets.mnist) is deprecated and will be removed in a future version.\n",
      "Instructions for updating:\n",
      "Please use tf.data to implement this functionality.\n",
      "Extracting data/train-images-idx3-ubyte.gz\n",
      "Successfully downloaded train-labels-idx1-ubyte.gz 28881 bytes.\n",
      "WARNING:tensorflow:From c:\\users\\jason\\appdata\\local\\programs\\python\\python36\\lib\\site-packages\\tensorflow\\contrib\\learn\\python\\learn\\datasets\\mnist.py:267: extract_labels (from tensorflow.contrib.learn.python.learn.datasets.mnist) is deprecated and will be removed in a future version.\n",
      "Instructions for updating:\n",
      "Please use tf.data to implement this functionality.\n",
      "Extracting data/train-labels-idx1-ubyte.gz\n",
      "WARNING:tensorflow:From c:\\users\\jason\\appdata\\local\\programs\\python\\python36\\lib\\site-packages\\tensorflow\\contrib\\learn\\python\\learn\\datasets\\mnist.py:110: dense_to_one_hot (from tensorflow.contrib.learn.python.learn.datasets.mnist) is deprecated and will be removed in a future version.\n",
      "Instructions for updating:\n",
      "Please use tf.one_hot on tensors.\n",
      "Successfully downloaded t10k-images-idx3-ubyte.gz 1648877 bytes.\n",
      "Extracting data/t10k-images-idx3-ubyte.gz\n",
      "Successfully downloaded t10k-labels-idx1-ubyte.gz 4542 bytes.\n",
      "Extracting data/t10k-labels-idx1-ubyte.gz\n",
      "WARNING:tensorflow:From c:\\users\\jason\\appdata\\local\\programs\\python\\python36\\lib\\site-packages\\tensorflow\\contrib\\learn\\python\\learn\\datasets\\mnist.py:290: DataSet.__init__ (from tensorflow.contrib.learn.python.learn.datasets.mnist) is deprecated and will be removed in a future version.\n",
      "Instructions for updating:\n",
      "Please use alternatives such as official/mnist/dataset.py from tensorflow/models.\n"
     ]
    }
   ],
   "source": [
    "# MNIST 관련 정의\n",
    "\n",
    "mnist = input_data.read_data_sets('data/', one_hot=True) # One_hot = True : One-Hot Encoding을 실행한다.\n",
    "# 우리가 원하는 하나만 1이고 나머지는 다 0인 One_hot Encoding\n",
    "\n",
    "# Training\n",
    "trainimg = mnist.train.images\n",
    "trainlabel = mnist.train.labels\n",
    "\n",
    "# Testing\n",
    "testing = mnist.test.images\n",
    "testlabel = mnist.test.labels"
   ]
  },
  {
   "cell_type": "code",
   "execution_count": 7,
   "metadata": {},
   "outputs": [],
   "source": [
    "# Logistic Regression을 위한 Tensor Graph 만들기\n",
    "\n",
    "# [개수, 차원]\n",
    "\n",
    "# Input\n",
    "x = tf.placeholder(\"float\", [None, 784])\n",
    "# x는 784차원의 float 형태의 데이터다. None이 붙여진 이유는 데이터 몇 개 넣을지 모르기 때문에.\n",
    "\n",
    "# Output\n",
    "y = tf.placeholder(\"float\", [None, 10])\n",
    "# y는 10차원의 float 형태의 데이터다. None이 붙여진 이유는 데이터 몇 개 넣을지 모르기 때문에.\n",
    "\n",
    "# Weight 가중치\n",
    "W = tf.Variable(tf.zeros([784, 10]))\n",
    "# 10차원의 데이터가 784개 있다.\n",
    "# 즉 행렬형태로는 10 x 784 형태\n",
    "\n",
    "# Bias 편향\n",
    "b = tf.Variable(tf.zeros([10]))\n",
    "\n",
    "# Logistic Regression Model\n",
    "actv = tf.nn.softmax(tf.matmul(x, W) + b)\n",
    "# wx + b\n",
    "\n",
    "# Cost Function\n",
    "cost = tf.reduce_mean(-tf.reduce_sum(y*tf.log(actv), reduction_indices=1))\n",
    "\n",
    "# Optimizer\n",
    "learning_rate = 0.01\n",
    "optm = tf.train.GradientDescentOptimizer(learning_rate).minimize(cost)\n",
    "# cost 함수를 최소화시키는 Gradient Descent Optimizer 적용시키기"
   ]
  },
  {
   "cell_type": "code",
   "execution_count": 8,
   "metadata": {},
   "outputs": [
    {
     "name": "stdout",
     "output_type": "stream",
     "text": [
      "WARNING:tensorflow:From c:\\users\\jason\\appdata\\local\\programs\\python\\python36\\lib\\site-packages\\tensorflow\\python\\util\\tf_should_use.py:189: initialize_all_variables (from tensorflow.python.ops.variables) is deprecated and will be removed after 2017-03-02.\n",
      "Instructions for updating:\n",
      "Use `tf.global_variables_initializer` instead.\n"
     ]
    }
   ],
   "source": [
    "# 예측과 정확도 측정\n",
    "\n",
    "# Prediction\n",
    "pred = tf.equal(tf.argmax(actv, 1), tf.argmax(y, 1))\n",
    "\n",
    "# actv = tf.nn.softmax(tf.matmul(x, W) + b)\n",
    "# actv는 wx + b의 과정을 거쳐 측정한 예측값\n",
    "# y는 정답\n",
    "# 이게 얼마나 유사한지. equal 먹이기.\n",
    "# (actv, 1)이랑 (y, 1)은 이게 각각 1개 있다는 소리지.\n",
    "# 1개씩 각각 일일이 다 비교한다는 말.\n",
    "\n",
    "# Accuracy\n",
    "accr = tf.reduce_mean(tf.cast(pred, \"float\"))\n",
    "\n",
    "# Initializer 변수 초기화\n",
    "init = tf.initialize_all_variables()"
   ]
  },
  {
   "cell_type": "code",
   "execution_count": 13,
   "metadata": {},
   "outputs": [],
   "source": [
    "# Model Training 시키기\n",
    "\n",
    "training_epochs = 50\n",
    "batch_size = 100\n",
    "display_step = 5\n",
    "\n",
    "# Session\n",
    "sess = tf.Session()\n",
    "sess.run(init)"
   ]
  },
  {
   "cell_type": "code",
   "execution_count": 14,
   "metadata": {},
   "outputs": [
    {
     "name": "stdout",
     "output_type": "stream",
     "text": [
      "Epoch : 000 / 050 cost : 1.176467702 train_acc : 0.810 test acc : 0.855\n",
      "Epoch : 005 / 050 cost : 0.440895028 train_acc : 0.910 test acc : 0.895\n",
      "Epoch : 010 / 050 cost : 0.383382993 train_acc : 0.870 test acc : 0.905\n",
      "Epoch : 015 / 050 cost : 0.357291705 train_acc : 0.840 test acc : 0.910\n",
      "Epoch : 020 / 050 cost : 0.341484518 train_acc : 0.890 test acc : 0.912\n",
      "Epoch : 025 / 050 cost : 0.330568000 train_acc : 0.890 test acc : 0.915\n",
      "Epoch : 030 / 050 cost : 0.322361837 train_acc : 0.920 test acc : 0.916\n",
      "Epoch : 035 / 050 cost : 0.315943192 train_acc : 0.920 test acc : 0.917\n",
      "Epoch : 040 / 050 cost : 0.310744857 train_acc : 0.920 test acc : 0.918\n",
      "Epoch : 045 / 050 cost : 0.306327559 train_acc : 0.920 test acc : 0.919\n",
      "END\n"
     ]
    }
   ],
   "source": [
    "# Mini-Batch Learning\n",
    "\n",
    "for epoch in range(training_epochs):\n",
    "    avg_cost = 0.\n",
    "    num_batch = int(mnist.train.num_examples / batch_size)\n",
    "    for i in range(num_batch):\n",
    "        batch_xs, batch_ys = mnist.train.next_batch(batch_size)\n",
    "        sess.run(optm, feed_dict = {x: batch_xs, y: batch_ys})\n",
    "        feeds = {x: batch_xs, y: batch_ys}\n",
    "        avg_cost += sess.run(cost, feed_dict = feeds) / num_batch\n",
    "        \n",
    "    # Display\n",
    "    if epoch % display_step == 0:\n",
    "        feeds_train = {x: batch_xs, y: batch_ys}\n",
    "        feeds_test = {x: mnist.test.images, y: mnist.test.labels}\n",
    "        \n",
    "        train_acc = sess.run(accr, feed_dict = feeds_train)\n",
    "        test_acc = sess.run(accr, feed_dict = feeds_test)\n",
    "\n",
    "        print(\"Epoch : %03d / %03d cost : %.9f train_acc : %.3f test acc : %.3f\" % (epoch, training_epochs, avg_cost, train_acc, test_acc))\n",
    "print(\"END\")"
   ]
  }
 ],
 "metadata": {
  "kernelspec": {
   "display_name": "Python 3",
   "language": "python",
   "name": "python3"
  },
  "language_info": {
   "codemirror_mode": {
    "name": "ipython",
    "version": 3
   },
   "file_extension": ".py",
   "mimetype": "text/x-python",
   "name": "python",
   "nbconvert_exporter": "python",
   "pygments_lexer": "ipython3",
   "version": "3.6.5"
  }
 },
 "nbformat": 4,
 "nbformat_minor": 2
}
