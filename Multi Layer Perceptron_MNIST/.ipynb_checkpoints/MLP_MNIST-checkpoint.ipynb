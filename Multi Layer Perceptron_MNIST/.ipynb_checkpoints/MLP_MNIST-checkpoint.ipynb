{
 "cells": [
  {
   "cell_type": "code",
   "execution_count": 2,
   "metadata": {},
   "outputs": [],
   "source": [
    "# TensorFlow 개발환경 구축\n",
    "\n",
    "import numpy as np\n",
    "import tensorflow as tf\n",
    "\n",
    "# MNIST 불러오기\n",
    "from tensorflow.examples.tutorials.mnist import input_data"
   ]
  },
  {
   "cell_type": "code",
   "execution_count": 3,
   "metadata": {},
   "outputs": [
    {
     "name": "stdout",
     "output_type": "stream",
     "text": [
      "WARNING:tensorflow:From <ipython-input-3-3c5ca6131f52>:5: read_data_sets (from tensorflow.contrib.learn.python.learn.datasets.mnist) is deprecated and will be removed in a future version.\n",
      "Instructions for updating:\n",
      "Please use alternatives such as official/mnist/dataset.py from tensorflow/models.\n",
      "WARNING:tensorflow:From c:\\users\\jason\\appdata\\local\\programs\\python\\python36\\lib\\site-packages\\tensorflow\\contrib\\learn\\python\\learn\\datasets\\mnist.py:260: maybe_download (from tensorflow.contrib.learn.python.learn.datasets.base) is deprecated and will be removed in a future version.\n",
      "Instructions for updating:\n",
      "Please write your own downloading logic.\n",
      "WARNING:tensorflow:From c:\\users\\jason\\appdata\\local\\programs\\python\\python36\\lib\\site-packages\\tensorflow\\contrib\\learn\\python\\learn\\datasets\\base.py:252: _internal_retry.<locals>.wrap.<locals>.wrapped_fn (from tensorflow.contrib.learn.python.learn.datasets.base) is deprecated and will be removed in a future version.\n",
      "Instructions for updating:\n",
      "Please use urllib or similar directly.\n",
      "Successfully downloaded train-images-idx3-ubyte.gz 9912422 bytes.\n",
      "WARNING:tensorflow:From c:\\users\\jason\\appdata\\local\\programs\\python\\python36\\lib\\site-packages\\tensorflow\\contrib\\learn\\python\\learn\\datasets\\mnist.py:262: extract_images (from tensorflow.contrib.learn.python.learn.datasets.mnist) is deprecated and will be removed in a future version.\n",
      "Instructions for updating:\n",
      "Please use tf.data to implement this functionality.\n",
      "Extracting data/train-images-idx3-ubyte.gz\n",
      "Successfully downloaded train-labels-idx1-ubyte.gz 28881 bytes.\n",
      "WARNING:tensorflow:From c:\\users\\jason\\appdata\\local\\programs\\python\\python36\\lib\\site-packages\\tensorflow\\contrib\\learn\\python\\learn\\datasets\\mnist.py:267: extract_labels (from tensorflow.contrib.learn.python.learn.datasets.mnist) is deprecated and will be removed in a future version.\n",
      "Instructions for updating:\n",
      "Please use tf.data to implement this functionality.\n",
      "Extracting data/train-labels-idx1-ubyte.gz\n",
      "WARNING:tensorflow:From c:\\users\\jason\\appdata\\local\\programs\\python\\python36\\lib\\site-packages\\tensorflow\\contrib\\learn\\python\\learn\\datasets\\mnist.py:110: dense_to_one_hot (from tensorflow.contrib.learn.python.learn.datasets.mnist) is deprecated and will be removed in a future version.\n",
      "Instructions for updating:\n",
      "Please use tf.one_hot on tensors.\n",
      "Successfully downloaded t10k-images-idx3-ubyte.gz 1648877 bytes.\n",
      "Extracting data/t10k-images-idx3-ubyte.gz\n",
      "Successfully downloaded t10k-labels-idx1-ubyte.gz 4542 bytes.\n",
      "Extracting data/t10k-labels-idx1-ubyte.gz\n",
      "WARNING:tensorflow:From c:\\users\\jason\\appdata\\local\\programs\\python\\python36\\lib\\site-packages\\tensorflow\\contrib\\learn\\python\\learn\\datasets\\mnist.py:290: DataSet.__init__ (from tensorflow.contrib.learn.python.learn.datasets.mnist) is deprecated and will be removed in a future version.\n",
      "Instructions for updating:\n",
      "Please use alternatives such as official/mnist/dataset.py from tensorflow/models.\n"
     ]
    }
   ],
   "source": [
    "# MNIST 불러오기\n",
    "# one_hot = True : One-Hot Encoding을 실행한다\n",
    "# 하나만 1이고, 나머지는 다 0\n",
    "\n",
    "mnist = input_data.read_data_sets('data/', one_hot=True)"
   ]
  },
  {
   "cell_type": "markdown",
   "metadata": {},
   "source": [
    "# 모델 구축\n",
    "## Define Model"
   ]
  },
  {
   "cell_type": "code",
   "execution_count": 5,
   "metadata": {},
   "outputs": [],
   "source": [
    "# Network Topologies\n",
    "# 1차 hidden : 256\n",
    "n_hidden_1 = 256\n",
    "\n",
    "# 2차 hidden : 128\n",
    "n_hidden_2 = 128\n",
    "\n",
    "# Input : 784\n",
    "# Why? 28 * 28 = 784\n",
    "n_input = 784\n",
    "\n",
    "# class는 10개\n",
    "n_classes = 10\n",
    "\n",
    "# 784 -> 256 -> 128 -> 10\n",
    "# input -> hidden1 -> hidden2 -> output"
   ]
  },
  {
   "cell_type": "code",
   "execution_count": 6,
   "metadata": {},
   "outputs": [],
   "source": [
    "# Inputs and Outputs\n",
    "\n",
    "# placeholder\n",
    "\n",
    "# Input\n",
    "# None인 이유는 아직 개수를 모르기 때문에\n",
    "# n_input = 784 : 784차원\n",
    "x = tf.placeholder(\"float\", [None, n_input])\n",
    "\n",
    "# Output\n",
    "# n_classes = 10 : 10차원\n",
    "y = tf.placeholder(\"float\", [None, n_classes])"
   ]
  },
  {
   "cell_type": "code",
   "execution_count": 9,
   "metadata": {},
   "outputs": [
    {
     "name": "stdout",
     "output_type": "stream",
     "text": [
      "Gazuaaaaaaaaa~~~\n"
     ]
    }
   ],
   "source": [
    "# Network Parameters\n",
    "stddev = 0.1\n",
    "# 표준편차 0.1\n",
    "\n",
    "# Dictionary 형태로 정의\n",
    "weights = {\n",
    "    \"h1\" : tf.Variable(tf.random_normal([n_input, n_hidden_1], stddev = stddev)), # 784, 256\n",
    "    \"h2\" : tf.Variable(tf.random_normal([n_hidden_1, n_hidden_2], stddev = stddev)), # 256, 128\n",
    "    \"out\" : tf.Variable(tf.random_normal([n_hidden_2, n_classes], stddev = stddev)) # 128, 10\n",
    "}\n",
    "\n",
    "biases = {\n",
    "    \"b1\" : tf.Variable(tf.random_normal([n_hidden_1])), # 256\n",
    "    \"b2\" : tf.Variable(tf.random_normal([n_hidden_2])), # 128\n",
    "    \"out\" : tf.Variable(tf.random_normal([n_classes])) # 10\n",
    "}\n",
    "print(\"Gazuaaaaaaaaa~~~\")"
   ]
  },
  {
   "cell_type": "markdown",
   "metadata": {},
   "source": [
    "# Define Graph"
   ]
  },
  {
   "cell_type": "code",
   "execution_count": 13,
   "metadata": {},
   "outputs": [],
   "source": [
    "# Model\n",
    "\n",
    "# Sigmoid\n",
    "# 1 / 1 + e^(-x)\n",
    "\n",
    "def multilayer_perceptron(_X, _weights, _biases):\n",
    "    layer_1 = tf.nn.sigmoid(tf.add(tf.matmul(_X, _weights['h1']), _biases['b1'])) # wx + b -> sigmoid(wx + b)\n",
    "    layer_2 = tf.nn.sigmoid(tf.add(tf.matmul(layer_1, _weights['h2']), _biases['b2'])) # wx + b -> sigmoid(wx + b)\n",
    "    return (tf.matmul(layer_2, _weights['out']) + _biases['out']) # wx + b -> sigmoid(wx + b)"
   ]
  },
  {
   "cell_type": "code",
   "execution_count": 14,
   "metadata": {},
   "outputs": [],
   "source": [
    "# Prediction\n",
    "pred = multilayer_perceptron(x, weights, biases)"
   ]
  },
  {
   "cell_type": "code",
   "execution_count": 15,
   "metadata": {},
   "outputs": [
    {
     "name": "stdout",
     "output_type": "stream",
     "text": [
      "WARNING:tensorflow:From <ipython-input-15-b730868889c9>:2: softmax_cross_entropy_with_logits (from tensorflow.python.ops.nn_ops) is deprecated and will be removed in a future version.\n",
      "Instructions for updating:\n",
      "\n",
      "Future major versions of TensorFlow will allow gradients to flow\n",
      "into the labels input on backprop by default.\n",
      "\n",
      "See `tf.nn.softmax_cross_entropy_with_logits_v2`.\n",
      "\n"
     ]
    }
   ],
   "source": [
    "# Loss and Optimizer\n",
    "cost = tf.reduce_mean(tf.nn.softmax_cross_entropy_with_logits(labels = y, logits = pred))\n",
    "optm = tf.train.AdamOptimizer(learning_rate = 0.001).minimize(cost) # 최적화 : 비용함수 최소 ㄱㄱ\n",
    "corr = tf.equal(tf.argmax(pred, 1), tf.argmax(y, 1)) # corr : 예측값과 정답이 얼마나 유사한가요.\n",
    "accr = tf.reduce_mean(tf.cast(corr, \"float\")) # 정확도"
   ]
  },
  {
   "cell_type": "code",
   "execution_count": 16,
   "metadata": {},
   "outputs": [],
   "source": [
    "# Initializer\n",
    "# 변수 초기화\n",
    "\n",
    "init = tf.global_variables_initializer()"
   ]
  },
  {
   "cell_type": "markdown",
   "metadata": {},
   "source": [
    "# RUN"
   ]
  },
  {
   "cell_type": "code",
   "execution_count": 17,
   "metadata": {},
   "outputs": [],
   "source": [
    "# Parameters\n",
    "training_epochs = 20\n",
    "batch_size = 100\n",
    "display_step = 4"
   ]
  },
  {
   "cell_type": "code",
   "execution_count": 19,
   "metadata": {},
   "outputs": [],
   "source": [
    "# Launch the Graph\n",
    "sess = tf.Session()\n",
    "sess.run(init)"
   ]
  },
  {
   "cell_type": "code",
   "execution_count": 20,
   "metadata": {},
   "outputs": [
    {
     "name": "stdout",
     "output_type": "stream",
     "text": [
      "Epoch : 003 / 020 cost : 0.119705953\n",
      "TRAIN ACCURACY : 0.970\n",
      "TEST ACCURACY : 0.962\n",
      "Epoch : 007 / 020 cost : 0.049206065\n",
      "TRAIN ACCURACY : 1.000\n",
      "TEST ACCURACY : 0.976\n",
      "Epoch : 011 / 020 cost : 0.019694320\n",
      "TRAIN ACCURACY : 1.000\n",
      "TEST ACCURACY : 0.979\n",
      "Epoch : 015 / 020 cost : 0.007286679\n",
      "TRAIN ACCURACY : 1.000\n",
      "TEST ACCURACY : 0.979\n",
      "Epoch : 019 / 020 cost : 0.002359492\n",
      "TRAIN ACCURACY : 1.000\n",
      "TEST ACCURACY : 0.980\n",
      "OPTIMIZATION gazuaaaaaaaaaaaaa\n"
     ]
    }
   ],
   "source": [
    "# Optimize\n",
    "for epoch in range(training_epochs):\n",
    "    avg_cost = 0.\n",
    "    total_batch = int(mnist.train.num_examples / batch_size)\n",
    "    \n",
    "    # Iteration\n",
    "    for i in range(total_batch):\n",
    "        batch_xs, batch_ys = mnist.train.next_batch(batch_size)\n",
    "        feeds = {x : batch_xs, y : batch_ys}\n",
    "        sess.run(optm, feed_dict = feeds)\n",
    "        avg_cost += sess.run(cost, feed_dict = feeds)\n",
    "    avg_cost= avg_cost / total_batch\n",
    "    \n",
    "    # Display\n",
    "    if (epoch + 1) % display_step == 0:\n",
    "        print(\"Epoch : %03d / %03d cost : %.9f\" % (epoch, training_epochs, avg_cost))\n",
    "        feeds = {x : batch_xs, y : batch_ys}\n",
    "        train_acc = sess.run(accr, feed_dict = feeds)\n",
    "        print(\"TRAIN ACCURACY : %.3f\" % (train_acc))\n",
    "        feeds = {x : mnist.test.images, y : mnist.test.labels}\n",
    "        test_acc = sess.run(accr, feed_dict = feeds)\n",
    "        print(\"TEST ACCURACY : %.3f\" % (test_acc))\n",
    "print(\"OPTIMIZATION gazuaaaaaaaaaaaaa\")"
   ]
  }
 ],
 "metadata": {
  "kernelspec": {
   "display_name": "Python 3",
   "language": "python",
   "name": "python3"
  },
  "language_info": {
   "codemirror_mode": {
    "name": "ipython",
    "version": 3
   },
   "file_extension": ".py",
   "mimetype": "text/x-python",
   "name": "python",
   "nbconvert_exporter": "python",
   "pygments_lexer": "ipython3",
   "version": "3.6.5"
  }
 },
 "nbformat": 4,
 "nbformat_minor": 2
}
