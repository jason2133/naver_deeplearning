{
 "cells": [
  {
   "cell_type": "markdown",
   "metadata": {},
   "source": [
    "# Basic Python"
   ]
  },
  {
   "cell_type": "code",
   "execution_count": 14,
   "metadata": {},
   "outputs": [
    {
     "name": "stdout",
     "output_type": "stream",
     "text": [
      "Hello! Numpy!\n"
     ]
    }
   ],
   "source": [
    "import numpy as np\n",
    "print(\"Hello! Numpy!\")"
   ]
  },
  {
   "cell_type": "code",
   "execution_count": 15,
   "metadata": {},
   "outputs": [
    {
     "data": {
      "text/plain": [
       "<module 'numpy' from 'c:\\\\users\\\\jason\\\\appdata\\\\local\\\\programs\\\\python\\\\python36\\\\lib\\\\site-packages\\\\numpy\\\\__init__.py'>"
      ]
     },
     "execution_count": 15,
     "metadata": {},
     "output_type": "execute_result"
    }
   ],
   "source": [
    "# numpy 불러온거 확인\n",
    "np"
   ]
  },
  {
   "cell_type": "code",
   "execution_count": 16,
   "metadata": {},
   "outputs": [
    {
     "name": "stdout",
     "output_type": "stream",
     "text": [
      "Hello, World!\n"
     ]
    }
   ],
   "source": [
    "# Print Function\n",
    "print(\"Hello, World!\")"
   ]
  },
  {
   "cell_type": "markdown",
   "metadata": {},
   "source": [
    "# INTEGER"
   ]
  },
  {
   "cell_type": "code",
   "execution_count": 20,
   "metadata": {},
   "outputs": [
    {
     "name": "stdout",
     "output_type": "stream",
     "text": [
      "Integer : 3, 03, 003, 0003, 00003\n"
     ]
    }
   ],
   "source": [
    "# Integer\n",
    "# %d\n",
    "\n",
    "x = 3\n",
    "print(\"Integer : %01d, %02d, %03d, %04d, %05d\" % (x, x, x, x, x))\n",
    "# 1자리 2자리 3자리 4자리 5자리\n",
    "# 01 02 03 이런식으로 하면 앞에 0이 붙음"
   ]
  },
  {
   "cell_type": "markdown",
   "metadata": {},
   "source": [
    "# FLOAT"
   ]
  },
  {
   "cell_type": "code",
   "execution_count": 21,
   "metadata": {},
   "outputs": [
    {
     "name": "stdout",
     "output_type": "stream",
     "text": [
      "Float : 123, 123.5, 123.46, 123.46, 123.46\n"
     ]
    }
   ],
   "source": [
    "# Float\n",
    "# %f\n",
    "\n",
    "x = 123.456\n",
    "print(\"Float : %.0f, %.1f, %.2f, %1.2f, %2.2f\" % (x, x, x, x, x))\n",
    "# 소수점 없음 / 소수점 하나 / 소수점 둘 / 소수점 둘 / 소수점 둘"
   ]
  },
  {
   "cell_type": "markdown",
   "metadata": {},
   "source": [
    "# STRING"
   ]
  },
  {
   "cell_type": "code",
   "execution_count": 19,
   "metadata": {},
   "outputs": [
    {
     "name": "stdout",
     "output_type": "stream",
     "text": [
      "String : [Hello, world], [Hello, world], [        Hello, world]\n"
     ]
    }
   ],
   "source": [
    "# String\n",
    "# %s\n",
    "\n",
    "x = \"Hello, world\"\n",
    "print(\"String : [%s], [%3s], [%20s]\" % (x, x, x))"
   ]
  },
  {
   "cell_type": "markdown",
   "metadata": {},
   "source": [
    "# FOR LOOP"
   ]
  },
  {
   "cell_type": "code",
   "execution_count": 25,
   "metadata": {},
   "outputs": [
    {
     "name": "stdout",
     "output_type": "stream",
     "text": [
      "ANN\n",
      "MLP\n",
      "CNN\n",
      "RNN\n",
      "DAE\n",
      "[ANN]\n",
      "[MLP]\n",
      "[CNN]\n",
      "[RNN]\n",
      "[DAE]\n"
     ]
    }
   ],
   "source": [
    "dlmethods = [\"ANN\", \"MLP\", \"CNN\", \"RNN\", \"DAE\"]\n",
    "\n",
    "for alg in dlmethods:\n",
    "    print(\"%s\" % alg)\n",
    "\n",
    "for alg in dlmethods:\n",
    "    print(\"[%s]\" % alg)"
   ]
  },
  {
   "cell_type": "markdown",
   "metadata": {},
   "source": [
    "# FOR LOOP WITH INDEX\n",
    "## ENUMERATE"
   ]
  },
  {
   "cell_type": "code",
   "execution_count": 27,
   "metadata": {},
   "outputs": [
    {
     "name": "stdout",
     "output_type": "stream",
     "text": [
      "0 : ANN\n",
      "1 : MLP\n",
      "2 : CNN\n",
      "3 : RNN\n",
      "4 : DAE\n"
     ]
    }
   ],
   "source": [
    "dlmethods = [\"ANN\", \"MLP\", \"CNN\", \"RNN\", \"DAE\"]\n",
    "\n",
    "for i, alg in enumerate(dlmethods):\n",
    "    print(\"%d : %s\" % (i, alg))"
   ]
  },
  {
   "cell_type": "code",
   "execution_count": 32,
   "metadata": {},
   "outputs": [
    {
     "name": "stdout",
     "output_type": "stream",
     "text": [
      "0/5 : ANN\n",
      "1/5 : MLP\n",
      "2/5 : CNN\n",
      "3/5 : RNN\n",
      "4/5 : DAE\n"
     ]
    }
   ],
   "source": [
    "dlmethods = [\"ANN\", \"MLP\", \"CNN\", \"RNN\", \"DAE\"]\n",
    "\n",
    "for i, alg in enumerate(dlmethods):\n",
    "    print(\"%d/%d : %s\" % (i, len(dlmethods), alg))\n",
    "    \n",
    "# len(dlmethods)"
   ]
  },
  {
   "cell_type": "markdown",
   "metadata": {},
   "source": [
    "## IF / ELSE"
   ]
  },
  {
   "cell_type": "code",
   "execution_count": 29,
   "metadata": {},
   "outputs": [
    {
     "name": "stdout",
     "output_type": "stream",
     "text": [
      "ANN is a feed-forward network.\n",
      "MLP is a feed-forward network.\n",
      "CNN is a feed-forward network.\n",
      "RNN is a recurrent network\n",
      "DAE is an unsupervised method.\n"
     ]
    }
   ],
   "source": [
    "dlmethods = [\"ANN\", \"MLP\", \"CNN\", \"RNN\", \"DAE\"]\n",
    "\n",
    "for alg in dlmethods:\n",
    "    if alg in [\"ANN\", \"MLP\", \"CNN\"]:\n",
    "        print (\"%s is a feed-forward network.\" % (alg))\n",
    "    elif alg in [\"RNN\"]:\n",
    "        print (\"%s is a recurrent network\" % (alg))\n",
    "    else:\n",
    "        print(\"%s is an unsupervised method.\" % (alg))"
   ]
  },
  {
   "cell_type": "markdown",
   "metadata": {},
   "source": [
    "# FUNCTIONS"
   ]
  },
  {
   "cell_type": "code",
   "execution_count": 34,
   "metadata": {},
   "outputs": [
    {
     "name": "stdout",
     "output_type": "stream",
     "text": [
      "Function Defined\n"
     ]
    }
   ],
   "source": [
    "def sum(a, b):\n",
    "    return a + b\n",
    "print(\"Function Defined\")"
   ]
  },
  {
   "cell_type": "code",
   "execution_count": 35,
   "metadata": {},
   "outputs": [
    {
     "data": {
      "text/plain": [
       "9999"
      ]
     },
     "execution_count": 35,
     "metadata": {},
     "output_type": "execute_result"
    }
   ],
   "source": [
    "sum(5000, 4999)"
   ]
  },
  {
   "cell_type": "code",
   "execution_count": 37,
   "metadata": {},
   "outputs": [
    {
     "name": "stdout",
     "output_type": "stream",
     "text": [
      "5000 + 4999 = 9999\n"
     ]
    }
   ],
   "source": [
    "a = 5000\n",
    "b = 4999\n",
    "print(\"%d + %d = %d\" % (a, b, sum(a,b)))"
   ]
  },
  {
   "cell_type": "markdown",
   "metadata": {},
   "source": [
    "# STRING"
   ]
  },
  {
   "cell_type": "code",
   "execution_count": 40,
   "metadata": {},
   "outputs": [
    {
     "name": "stdout",
     "output_type": "stream",
     "text": [
      "Jae Seung Lee is a student of KOREA UNIVERSITY\n"
     ]
    }
   ],
   "source": [
    "a = \"Jae Seung Lee\"\n",
    "b = \"a student of \"\n",
    "c = \"KOREA UNIVERSITY.\"\n",
    "\n",
    "print(a + \" is \" + b + c)"
   ]
  },
  {
   "cell_type": "code",
   "execution_count": 41,
   "metadata": {},
   "outputs": [
    {
     "name": "stdout",
     "output_type": "stream",
     "text": [
      "Jae Seung Lee is very very very very very very very very very very great.\n"
     ]
    }
   ],
   "source": [
    "a = \"Jae Seung Lee\"\n",
    "b = \"very \"\n",
    "c = \"great.\"\n",
    "\n",
    "print(a + \" is \" + b * 10 + c)"
   ]
  },
  {
   "cell_type": "markdown",
   "metadata": {},
   "source": [
    "# LIST"
   ]
  },
  {
   "cell_type": "code",
   "execution_count": 42,
   "metadata": {},
   "outputs": [
    {
     "name": "stdout",
     "output_type": "stream",
     "text": [
      "a : [[]], Type is [<class 'list'>]\n"
     ]
    }
   ],
   "source": [
    "a = []\n",
    "print(\"a : [%s], Type is [%s]\" % (a, type(a)))"
   ]
  },
  {
   "cell_type": "code",
   "execution_count": 45,
   "metadata": {},
   "outputs": [
    {
     "name": "stdout",
     "output_type": "stream",
     "text": [
      "[1, 2, 3]\n",
      "['x', 'y', 'z']\n",
      "[[1, 2, 3], ['x', 'y', 'z']]\n",
      "x\n",
      "y\n",
      "z\n"
     ]
    }
   ],
   "source": [
    "b = [1, 2, 3]\n",
    "c = ['x', 'y', 'z']\n",
    "d = [b, c]\n",
    "\n",
    "print(b)\n",
    "print(c)\n",
    "print(d)\n",
    "\n",
    "for i in c:\n",
    "    print(i)"
   ]
  },
  {
   "cell_type": "code",
   "execution_count": 46,
   "metadata": {},
   "outputs": [
    {
     "name": "stdout",
     "output_type": "stream",
     "text": [
      "['x', 'y', 'z']\n"
     ]
    }
   ],
   "source": [
    "e = []\n",
    "\n",
    "for i in range(len(c)):\n",
    "    e.append(c[i])\n",
    "\n",
    "print(e)"
   ]
  },
  {
   "cell_type": "markdown",
   "metadata": {},
   "source": [
    "# DICTIONARY"
   ]
  },
  {
   "cell_type": "code",
   "execution_count": 53,
   "metadata": {},
   "outputs": [
    {
     "name": "stdout",
     "output_type": "stream",
     "text": [
      "{'name': 'Jason', 'school': 'Korea Univ.', 'major': 'Statistics'}\n"
     ]
    }
   ],
   "source": [
    "dic = dict()\n",
    "dic[\"name\"] = \"Jason\"\n",
    "dic[\"school\"] = \"Korea Univ.\"\n",
    "dic[\"major\"] = \"Statistics\"\n",
    "\n",
    "print(dic)"
   ]
  },
  {
   "cell_type": "code",
   "execution_count": 54,
   "metadata": {},
   "outputs": [
    {
     "name": "stdout",
     "output_type": "stream",
     "text": [
      "{'name': 'Jason', 'school': 'Korea Univ.', 'major': 'Statistics'}\n"
     ]
    }
   ],
   "source": [
    "# dict 형태로 정의\n",
    "\n",
    "a = {'name' : 'Jason', 'school' : 'Korea Univ.', 'major' : 'Statistics'}\n",
    "print(a)"
   ]
  },
  {
   "cell_type": "code",
   "execution_count": 55,
   "metadata": {},
   "outputs": [
    {
     "name": "stdout",
     "output_type": "stream",
     "text": [
      "My name is Jason\n",
      "My school is Korea Univ.\n",
      "My major is Statistics\n"
     ]
    }
   ],
   "source": [
    "print('My name is %s' %(dic['name']))\n",
    "print(\"My school is %s\" %(dic['school']))\n",
    "print('My major is %s' %(dic['major']))"
   ]
  },
  {
   "cell_type": "code",
   "execution_count": 56,
   "metadata": {},
   "outputs": [
    {
     "name": "stdout",
     "output_type": "stream",
     "text": [
      "My name is Jason\n",
      "My school is Korea Univ.\n",
      "My major is Statistics\n"
     ]
    }
   ],
   "source": [
    "print('My name is %s' %(a['name']))\n",
    "print(\"My school is %s\" %(a['school']))\n",
    "print('My major is %s' %(a['major']))"
   ]
  },
  {
   "cell_type": "markdown",
   "metadata": {},
   "source": [
    "# CLASS"
   ]
  },
  {
   "cell_type": "code",
   "execution_count": 57,
   "metadata": {},
   "outputs": [
    {
     "name": "stdout",
     "output_type": "stream",
     "text": [
      "Hello, Jason\n",
      "HELLO, JASON!\n"
     ]
    }
   ],
   "source": [
    "class Greeter:\n",
    "    # Constructor 지시\n",
    "    def __init__(self, name):\n",
    "        self.name = name\n",
    "    \n",
    "    # Method\n",
    "    def greet(self, loud=False):\n",
    "        if loud: \n",
    "            # loud is True\n",
    "            print('HELLO, %s!' % self.name.upper())\n",
    "        else: \n",
    "            # loud is False\n",
    "            print('Hello, %s' % self.name)\n",
    "\n",
    "a = Greeter('Jason')\n",
    "a.greet()\n",
    "a.greet(loud=True)"
   ]
  }
 ],
 "metadata": {
  "kernelspec": {
   "display_name": "Python 3",
   "language": "python",
   "name": "python3"
  },
  "language_info": {
   "codemirror_mode": {
    "name": "ipython",
    "version": 3
   },
   "file_extension": ".py",
   "mimetype": "text/x-python",
   "name": "python",
   "nbconvert_exporter": "python",
   "pygments_lexer": "ipython3",
   "version": "3.6.5"
  }
 },
 "nbformat": 4,
 "nbformat_minor": 2
}
