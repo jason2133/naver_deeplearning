{
 "cells": [
  {
   "cell_type": "markdown",
   "metadata": {},
   "source": [
    "# Numpy"
   ]
  },
  {
   "cell_type": "code",
   "execution_count": 1,
   "metadata": {},
   "outputs": [],
   "source": [
    "import numpy as np"
   ]
  },
  {
   "cell_type": "code",
   "execution_count": 2,
   "metadata": {},
   "outputs": [
    {
     "data": {
      "text/plain": [
       "<module 'numpy' from 'c:\\\\users\\\\jason\\\\appdata\\\\local\\\\programs\\\\python\\\\python36\\\\lib\\\\site-packages\\\\numpy\\\\__init__.py'>"
      ]
     },
     "execution_count": 2,
     "metadata": {},
     "output_type": "execute_result"
    }
   ],
   "source": [
    "# numpy 불렸는지 확인\n",
    "\n",
    "np"
   ]
  },
  {
   "cell_type": "code",
   "execution_count": 11,
   "metadata": {},
   "outputs": [],
   "source": [
    "def print_np(x):\n",
    "    print(\"(1) Type is %s\" % (type(x)))\n",
    "    print(\"(2) Shape is %s\" % (x.shape,))\n",
    "    # 여기에 x.shape, 콤마 있는거 조심\n",
    "    \n",
    "    print(\"(3) Values are \\n%s\" % (x)) "
   ]
  },
  {
   "cell_type": "code",
   "execution_count": 12,
   "metadata": {},
   "outputs": [
    {
     "name": "stdout",
     "output_type": "stream",
     "text": [
      "(1) Type is <class 'numpy.ndarray'>\n",
      "(2) Shape is (3,)\n",
      "(3) Values are \n",
      "[1 2 3]\n"
     ]
    }
   ],
   "source": [
    "x = np.array([1, 2, 3])\n",
    "print_np(x)"
   ]
  },
  {
   "cell_type": "code",
   "execution_count": 13,
   "metadata": {},
   "outputs": [
    {
     "name": "stdout",
     "output_type": "stream",
     "text": [
      "(1) Type is <class 'numpy.ndarray'>\n",
      "(2) Shape is (3,)\n",
      "(3) Values are \n",
      "[5 2 3]\n"
     ]
    }
   ],
   "source": [
    "x[0] = 5\n",
    "print_np(x)"
   ]
  },
  {
   "cell_type": "code",
   "execution_count": 14,
   "metadata": {},
   "outputs": [
    {
     "name": "stdout",
     "output_type": "stream",
     "text": [
      "(1) Type is <class 'numpy.ndarray'>\n",
      "(2) Shape is (2, 3)\n",
      "(3) Values are \n",
      "[[1 2 3]\n",
      " [4 5 6]]\n"
     ]
    }
   ],
   "source": [
    "y = np.array([[1,2,3], [4,5,6]])\n",
    "print_np(y)"
   ]
  },
  {
   "cell_type": "markdown",
   "metadata": {},
   "source": [
    "## Zeros"
   ]
  },
  {
   "cell_type": "code",
   "execution_count": 15,
   "metadata": {},
   "outputs": [
    {
     "name": "stdout",
     "output_type": "stream",
     "text": [
      "(1) Type is <class 'numpy.ndarray'>\n",
      "(2) Shape is (3, 2)\n",
      "(3) Values are \n",
      "[[0. 0.]\n",
      " [0. 0.]\n",
      " [0. 0.]]\n"
     ]
    }
   ],
   "source": [
    "a = np.zeros((3, 2))\n",
    "print_np(a)"
   ]
  },
  {
   "cell_type": "markdown",
   "metadata": {},
   "source": [
    "## Ones"
   ]
  },
  {
   "cell_type": "code",
   "execution_count": 16,
   "metadata": {},
   "outputs": [
    {
     "name": "stdout",
     "output_type": "stream",
     "text": [
      "(1) Type is <class 'numpy.ndarray'>\n",
      "(2) Shape is (5, 4)\n",
      "(3) Values are \n",
      "[[1. 1. 1. 1.]\n",
      " [1. 1. 1. 1.]\n",
      " [1. 1. 1. 1.]\n",
      " [1. 1. 1. 1.]\n",
      " [1. 1. 1. 1.]]\n"
     ]
    }
   ],
   "source": [
    "b = np.ones((5, 4))\n",
    "print_np(b)"
   ]
  },
  {
   "cell_type": "markdown",
   "metadata": {},
   "source": [
    "# Identity"
   ]
  },
  {
   "cell_type": "code",
   "execution_count": 17,
   "metadata": {},
   "outputs": [
    {
     "name": "stdout",
     "output_type": "stream",
     "text": [
      "(1) Type is <class 'numpy.ndarray'>\n",
      "(2) Shape is (3, 3)\n",
      "(3) Values are \n",
      "[[1. 0. 0.]\n",
      " [0. 1. 0.]\n",
      " [0. 0. 1.]]\n"
     ]
    }
   ],
   "source": [
    "c = np.eye(3, 3)\n",
    "print_np(c)"
   ]
  },
  {
   "cell_type": "markdown",
   "metadata": {},
   "source": [
    "# Random Uniform"
   ]
  },
  {
   "cell_type": "code",
   "execution_count": 19,
   "metadata": {},
   "outputs": [
    {
     "name": "stdout",
     "output_type": "stream",
     "text": [
      "(1) Type is <class 'numpy.ndarray'>\n",
      "(2) Shape is (5, 5)\n",
      "(3) Values are \n",
      "[[0.8844673  0.66885357 0.78416748 0.74405545 0.70238116]\n",
      " [0.97317385 0.04126395 0.89704232 0.76426706 0.83338742]\n",
      " [0.2581393  0.5068073  0.10416249 0.0906116  0.44780283]\n",
      " [0.80795533 0.95007725 0.70523016 0.84747447 0.38983047]\n",
      " [0.15569394 0.3147133  0.11641266 0.45980845 0.36275584]]\n"
     ]
    }
   ],
   "source": [
    "# Sample from Uniform Distribution\n",
    "\n",
    "d = np.random.random((5, 5))\n",
    "print_np(d)"
   ]
  },
  {
   "cell_type": "markdown",
   "metadata": {},
   "source": [
    "# Random Matrix (Gaussian)"
   ]
  },
  {
   "cell_type": "code",
   "execution_count": 20,
   "metadata": {},
   "outputs": [
    {
     "name": "stdout",
     "output_type": "stream",
     "text": [
      "(1) Type is <class 'numpy.ndarray'>\n",
      "(2) Shape is (5, 5)\n",
      "(3) Values are \n",
      "[[ 0.52411076 -0.39726295 -0.38382715 -2.02476834  1.64439975]\n",
      " [-0.68192376  0.67303804 -1.15620542 -0.8294316  -0.85904388]\n",
      " [-0.53430469 -0.09929605 -0.50586535 -0.16629948 -0.79065731]\n",
      " [-0.48731135  0.8306731  -0.19722064 -0.05174044  0.83106994]\n",
      " [ 0.7378361  -0.92250506  1.48433422  0.25281246 -0.02680521]]\n"
     ]
    }
   ],
   "source": [
    "# Sample from Zero-Mean unit Gaussain\n",
    "\n",
    "e = np.random.randn(5, 5)\n",
    "print_np(e)"
   ]
  },
  {
   "cell_type": "markdown",
   "metadata": {},
   "source": [
    "# Array Indexing"
   ]
  },
  {
   "cell_type": "code",
   "execution_count": 22,
   "metadata": {},
   "outputs": [
    {
     "name": "stdout",
     "output_type": "stream",
     "text": [
      "(1) Type is <class 'numpy.ndarray'>\n",
      "(2) Shape is (3, 4)\n",
      "(3) Values are \n",
      "[[ 1  2  3  4]\n",
      " [ 5  6  7  8]\n",
      " [ 9 10 11 12]]\n"
     ]
    }
   ],
   "source": [
    "a = np.array([[1, 2, 3, 4], [5, 6, 7, 8], [9, 10, 11 , 12]])\n",
    "print_np(a)"
   ]
  },
  {
   "cell_type": "code",
   "execution_count": 23,
   "metadata": {},
   "outputs": [
    {
     "name": "stdout",
     "output_type": "stream",
     "text": [
      "(1) Type is <class 'numpy.ndarray'>\n",
      "(2) Shape is (2, 2)\n",
      "(3) Values are \n",
      "[[2 3]\n",
      " [6 7]]\n"
     ]
    }
   ],
   "source": [
    "b = a[:2, 1:3]\n",
    "print_np(b)"
   ]
  },
  {
   "cell_type": "markdown",
   "metadata": {},
   "source": [
    "# GET Nth row(s) from Matrix"
   ]
  },
  {
   "cell_type": "code",
   "execution_count": 26,
   "metadata": {},
   "outputs": [
    {
     "name": "stdout",
     "output_type": "stream",
     "text": [
      "(1) Type is <class 'numpy.ndarray'>\n",
      "(2) Shape is (3, 4)\n",
      "(3) Values are \n",
      "[[ 1  2  3  4]\n",
      " [ 5  6  7  8]\n",
      " [ 9 10 11 12]]\n"
     ]
    }
   ],
   "source": [
    "a = np.array([[1, 2, 3, 4], [5, 6, 7, 8], [9, 10, 11, 12]])\n",
    "print_np(a)"
   ]
  },
  {
   "cell_type": "code",
   "execution_count": 27,
   "metadata": {},
   "outputs": [
    {
     "name": "stdout",
     "output_type": "stream",
     "text": [
      "(1) Type is <class 'numpy.ndarray'>\n",
      "(2) Shape is (4,)\n",
      "(3) Values are \n",
      "[5 6 7 8]\n",
      "(1) Type is <class 'numpy.ndarray'>\n",
      "(2) Shape is (1, 4)\n",
      "(3) Values are \n",
      "[[5 6 7 8]]\n",
      "(1) Type is <class 'numpy.ndarray'>\n",
      "(2) Shape is (1, 4)\n",
      "(3) Values are \n",
      "[[5 6 7 8]]\n"
     ]
    }
   ],
   "source": [
    "row_r1 = a[1, :]    \n",
    "row_r2 = a[1:2, :]   \n",
    "row_r3 = a[[1], :]  \n",
    "\n",
    "print_np(row_r1)\n",
    "print_np(row_r2)\n",
    "print_np(row_r3)\n",
    "\n",
    "# 셋 다 같은 말"
   ]
  },
  {
   "cell_type": "markdown",
   "metadata": {},
   "source": [
    "# Different Types"
   ]
  },
  {
   "cell_type": "code",
   "execution_count": 28,
   "metadata": {},
   "outputs": [
    {
     "name": "stdout",
     "output_type": "stream",
     "text": [
      "(1) Type is <class 'numpy.ndarray'>\n",
      "(2) Shape is (2,)\n",
      "(3) Values are \n",
      "[1 2]\n",
      "(1) Type is <class 'numpy.ndarray'>\n",
      "(2) Shape is (2,)\n",
      "(3) Values are \n",
      "[1. 2.]\n",
      "(1) Type is <class 'numpy.ndarray'>\n",
      "(2) Shape is (2,)\n",
      "(3) Values are \n",
      "[1 2]\n",
      "(1) Type is <class 'numpy.ndarray'>\n",
      "(2) Shape is (2,)\n",
      "(3) Values are \n",
      "[1 2]\n"
     ]
    }
   ],
   "source": [
    "# DIFFERENT TYPES\n",
    "x = np.array([1, 2]) # Let numpy choose the datatype\n",
    "y = np.array([1.0, 2.0]) # Let numpy choose the datatype\n",
    "z = np.array([1, 2], dtype=np.int64) # particular datatype\n",
    "\n",
    "print_np(x)\n",
    "print_np(y)\n",
    "print_np(z)\n",
    "\n",
    "# TYPE CASTING\n",
    "y2 = y.astype(np.int64)\n",
    "print_np(y2)"
   ]
  },
  {
   "cell_type": "markdown",
   "metadata": {},
   "source": [
    "# Array Math"
   ]
  },
  {
   "cell_type": "code",
   "execution_count": 29,
   "metadata": {},
   "outputs": [
    {
     "name": "stdout",
     "output_type": "stream",
     "text": [
      "(1) Type is <class 'numpy.ndarray'>\n",
      "(2) Shape is (2, 2)\n",
      "(3) Values are \n",
      "[[1. 2.]\n",
      " [3. 4.]]\n",
      "(1) Type is <class 'numpy.ndarray'>\n",
      "(2) Shape is (2, 2)\n",
      "(3) Values are \n",
      "[[5. 6.]\n",
      " [7. 8.]]\n"
     ]
    }
   ],
   "source": [
    "x = np.array([[1, 2], [3, 4]], dtype=np.float64)\n",
    "y = np.array([[5, 6], [7, 8]], dtype=np.float64)\n",
    "print_np(x)\n",
    "print_np(y)"
   ]
  },
  {
   "cell_type": "markdown",
   "metadata": {},
   "source": [
    "# 덧셈 Sum"
   ]
  },
  {
   "cell_type": "code",
   "execution_count": 30,
   "metadata": {},
   "outputs": [
    {
     "name": "stdout",
     "output_type": "stream",
     "text": [
      "[[ 6.  8.]\n",
      " [10. 12.]]\n",
      "[[ 6.  8.]\n",
      " [10. 12.]]\n"
     ]
    }
   ],
   "source": [
    "print (x + y)\n",
    "print (np.add(x, y))"
   ]
  },
  {
   "cell_type": "markdown",
   "metadata": {},
   "source": [
    "# 뺄셈 Subtract"
   ]
  },
  {
   "cell_type": "code",
   "execution_count": 31,
   "metadata": {},
   "outputs": [
    {
     "name": "stdout",
     "output_type": "stream",
     "text": [
      "[[-4. -4.]\n",
      " [-4. -4.]]\n",
      "[[-4. -4.]\n",
      " [-4. -4.]]\n"
     ]
    }
   ],
   "source": [
    "print (x - y)\n",
    "print (np.subtract(x, y))"
   ]
  },
  {
   "cell_type": "markdown",
   "metadata": {},
   "source": [
    "# 곱셈 Multiply"
   ]
  },
  {
   "cell_type": "code",
   "execution_count": 32,
   "metadata": {},
   "outputs": [
    {
     "name": "stdout",
     "output_type": "stream",
     "text": [
      "[[ 5. 12.]\n",
      " [21. 32.]]\n",
      "[[ 5. 12.]\n",
      " [21. 32.]]\n"
     ]
    }
   ],
   "source": [
    "print (x * y)\n",
    "print (np.multiply(x, y))"
   ]
  },
  {
   "cell_type": "markdown",
   "metadata": {},
   "source": [
    "# 나눗셈 Divide"
   ]
  },
  {
   "cell_type": "code",
   "execution_count": 33,
   "metadata": {},
   "outputs": [
    {
     "name": "stdout",
     "output_type": "stream",
     "text": [
      "[[0.2        0.33333333]\n",
      " [0.42857143 0.5       ]]\n",
      "[[0.2        0.33333333]\n",
      " [0.42857143 0.5       ]]\n"
     ]
    }
   ],
   "source": [
    "print (x / y)\n",
    "print (np.divide(x, y))"
   ]
  },
  {
   "cell_type": "markdown",
   "metadata": {},
   "source": [
    "# 루트 Sqrt"
   ]
  },
  {
   "cell_type": "code",
   "execution_count": 35,
   "metadata": {},
   "outputs": [
    {
     "name": "stdout",
     "output_type": "stream",
     "text": [
      "[[1.         1.41421356]\n",
      " [1.73205081 2.        ]]\n",
      "[[2.23606798 2.44948974]\n",
      " [2.64575131 2.82842712]]\n"
     ]
    }
   ],
   "source": [
    "print(np.sqrt(x))\n",
    "print(np.sqrt(y))"
   ]
  },
  {
   "cell_type": "markdown",
   "metadata": {},
   "source": [
    "# Matrix Operation"
   ]
  },
  {
   "cell_type": "code",
   "execution_count": 39,
   "metadata": {},
   "outputs": [],
   "source": [
    "x = np.array([[1, 2], [3, 4]])\n",
    "y = np.array([[5, 6], [7, 8]])\n",
    "v = np.array([9, 10])\n",
    "w = np.array([11, 12])"
   ]
  },
  {
   "cell_type": "markdown",
   "metadata": {},
   "source": [
    "## Dot Product"
   ]
  },
  {
   "cell_type": "code",
   "execution_count": 42,
   "metadata": {},
   "outputs": [
    {
     "name": "stdout",
     "output_type": "stream",
     "text": [
      "219\n",
      "219\n",
      "[29 67]\n",
      "[29 67]\n",
      "[[19 22]\n",
      " [43 50]]\n",
      "[[19 22]\n",
      " [43 50]]\n"
     ]
    }
   ],
   "source": [
    "# DOT PRODUCT\n",
    "print(v.dot(w))\n",
    "print(np.dot(v, w)) # <= v * w'\n",
    "\n",
    "print(x.dot(v))\n",
    "print(np.dot(x,v)) # <= x * v'\n",
    "\n",
    "print(x.dot(y))\n",
    "print(np.dot(x, y))"
   ]
  },
  {
   "cell_type": "markdown",
   "metadata": {},
   "source": [
    "## Empty Like"
   ]
  },
  {
   "cell_type": "code",
   "execution_count": 43,
   "metadata": {},
   "outputs": [
    {
     "name": "stdout",
     "output_type": "stream",
     "text": [
      "(1) Type is <class 'numpy.ndarray'>\n",
      "(2) Shape is (2, 2)\n",
      "(3) Values are \n",
      "[[1 2]\n",
      " [3 4]]\n",
      "(1) Type is <class 'numpy.ndarray'>\n",
      "(2) Shape is (2, 2)\n",
      "(3) Values are \n",
      "[[19 22]\n",
      " [43 50]]\n"
     ]
    }
   ],
   "source": [
    "# EMPTY_LIKE\n",
    "y = np.empty_like(x)\n",
    "print_np(x)\n",
    "print_np(y)"
   ]
  },
  {
   "cell_type": "markdown",
   "metadata": {},
   "source": [
    "# PYHTON USED 'CALL BY REFERENCE'"
   ]
  },
  {
   "cell_type": "code",
   "execution_count": 45,
   "metadata": {},
   "outputs": [
    {
     "name": "stdout",
     "output_type": "stream",
     "text": [
      "[[0 1]\n",
      " [2 3]]\n",
      "[[0 1]\n",
      " [2 3]]\n",
      "[[100   1]\n",
      " [  2   3]]\n",
      "[[100   1]\n",
      " [  2   3]]\n"
     ]
    }
   ],
   "source": [
    "# INITIALIZE X\n",
    "x = np.array([[0, 1], [2, 3]])\n",
    "print(x)\n",
    "\n",
    "# COPY X TO Z\n",
    "z = x\n",
    "print(z)\n",
    "\n",
    "# CHANGE VALUE IN Z\n",
    "z[0, 0] = 100\n",
    "print(z)\n",
    "\n",
    "# THEN, WHAT HAPPENS TO X?\n",
    "print(x)"
   ]
  },
  {
   "cell_type": "markdown",
   "metadata": {},
   "source": [
    "# Tile"
   ]
  },
  {
   "cell_type": "code",
   "execution_count": 46,
   "metadata": {},
   "outputs": [
    {
     "name": "stdout",
     "output_type": "stream",
     "text": [
      "(1) Type is <class 'numpy.ndarray'>\n",
      "(2) Shape is (5,)\n",
      "(3) Values are \n",
      "[0 1 2 3 4]\n",
      "(1) Type is <class 'numpy.ndarray'>\n",
      "(2) Shape is (1, 10)\n",
      "(3) Values are \n",
      "[[0 1 2 3 4 0 1 2 3 4]]\n",
      "(1) Type is <class 'numpy.ndarray'>\n",
      "(2) Shape is (2, 5)\n",
      "(3) Values are \n",
      "[[0 1 2 3 4]\n",
      " [0 1 2 3 4]]\n"
     ]
    }
   ],
   "source": [
    "v = np.array([0, 1, 2, 3, 4])\n",
    "print_np(v)\n",
    "\n",
    "w = np.tile(v, (1, 2))\n",
    "print_np(w)\n",
    "\n",
    "w = np.tile(v, (2, 1))\n",
    "print_np(w)"
   ]
  }
 ],
 "metadata": {
  "kernelspec": {
   "display_name": "Python 3",
   "language": "python",
   "name": "python3"
  },
  "language_info": {
   "codemirror_mode": {
    "name": "ipython",
    "version": 3
   },
   "file_extension": ".py",
   "mimetype": "text/x-python",
   "name": "python",
   "nbconvert_exporter": "python",
   "pygments_lexer": "ipython3",
   "version": "3.6.5"
  }
 },
 "nbformat": 4,
 "nbformat_minor": 2
}
